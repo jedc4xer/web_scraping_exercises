{
 "cells": [
  {
   "cell_type": "code",
   "execution_count": 1,
   "id": "330725f6-81ac-42d7-bc5f-18c360932dd6",
   "metadata": {},
   "outputs": [],
   "source": [
    "from dataclasses import dataclass, field\n",
    "import requests\n",
    "import datetime as dt\n",
    "\n",
    "@dataclass\n",
    "class StarWarsFilms:     \n",
    "    \n",
    "    # This __post_init__ method is checking the input data to see if it is valid.\n",
    "    # (Might need to be a __init__ instead, but then I'll have to change the class structure)\n",
    "    def __post_init__(self):\n",
    "        if self.episode_id is None:\n",
    "            raise Exception(\"An Episode ID is required!!\")\n",
    "        \n",
    "        # This adjusts the character input to be complete character objects instead of links\n",
    "        if self.characters is not None:\n",
    "            updated_characters = []\n",
    "            for character in self.characters:\n",
    "                char = self.get_characters(character)\n",
    "                print(char['name'])\n",
    "                attrs = self.get_character_attributes(char)\n",
    "                updated_characters.append(FilmCharacters(*attrs))\n",
    "            self.characters = updated_characters\n",
    "    \n",
    "    title: str = None\n",
    "    episode_id: int = None\n",
    "    opening_crawl: str = None\n",
    "    director: str = None\n",
    "    producer: str = None\n",
    "    release_date: str = None\n",
    "    characters: list = None\n",
    "    plot: str = None\n",
    "    rotten_tomatoes: int = None\n",
    "    box_office_gross: int = None #int = field(metadata={\"units\":\"U.S. Dollars\"}) # Can't seem to use \n",
    "    \n",
    "    # This function is calling the api for the character information\n",
    "    def get_characters(self, character):\n",
    "        chars = requests.get(character).json()\n",
    "        return chars\n",
    "    \n",
    "    def get_character_attributes(self,character):\n",
    "        goal_list = [\n",
    "            'name',\n",
    "            'height',\n",
    "            'mass',\n",
    "            'hair_color',\n",
    "            'eye_color',\n",
    "            'birth_year',\n",
    "            'gender'\n",
    "        ]\n",
    "        \n",
    "        attr_list = []\n",
    "        for attr in goal_list:\n",
    "            if attr in character:\n",
    "                attr_list.append(character[attr])\n",
    "            else:\n",
    "                attr_list.append(None)\n",
    "        return attr_list\n",
    "    \n",
    "@dataclass\n",
    "class FilmCharacters:\n",
    "    name: str\n",
    "    height: float\n",
    "    mass: float = field(metadata={\"units\":\"kilograms\"})\n",
    "    hair_color: str\n",
    "    eye_color: str\n",
    "    birth_year: str\n",
    "    gender: str\n",
    "\n",
    "class StarWarsLibrary:\n",
    "    \"\"\" Star Wars Library Class \"\"\"\n",
    "    def __init__(self):\n",
    "        self.star_path = 'https://swapi.dev/api/films'\n",
    "        self.omdb_path = 'http://www.omdbapi.com/?i=tt3896198&apikey=3ef42ac3'\n",
    "        self.last_updated = dt.datetime.now()\n",
    "        self.__star_data = None\n",
    "        self.__omdb_data = None\n",
    "        \n",
    "    def access_star_wars_api(self):\n",
    "        self.__star_data = requests.get(self.star_path).json()['results']\n",
    "        \n",
    "    def access_omdb_api(self):\n",
    "        self.__ombd_data = requests.get(self.omdb_path).json()\n",
    "        \n",
    "    def parse_omdb_data(self):\n",
    "        target_data = {\n",
    "            \n",
    "        }\n",
    "        example = {\"Title\":\"Guardians of the Galaxy Vol. 2\",\"Year\":\"2017\",\"Rated\":\"PG-13\",\"Released\":\"05 May 2017\",\"Runtime\":\"136 min\",\"Genre\":\"Action, Adventure, Comedy\",\"Director\":\"James Gunn\",\"Writer\":\"James Gunn, Dan Abnett, Andy Lanning\",\"Actors\":\"Chris Pratt, Zoe Saldana, Dave Bautista\",\"Plot\":\"The Guardians struggle to keep together as a team while dealing with their personal family issues, notably Star-Lord's encounter with his father the ambitious celestial being Ego.\",\"Language\":\"English\",\"Country\":\"United States\",\"Awards\":\"Nominated for 1 Oscar. 15 wins & 59 nominations total\",\"Poster\":\"https://m.media-amazon.com/images/M/MV5BNjM0NTc0NzItM2FlYS00YzEwLWE0YmUtNTA2ZWIzODc2OTgxXkEyXkFqcGdeQXVyNTgwNzIyNzg@._V1_SX300.jpg\",\"Ratings\":[{\"Source\":\"Internet Movie Database\",\"Value\":\"7.6/10\"},{\"Source\":\"Rotten Tomatoes\",\"Value\":\"85%\"},{\"Source\":\"Metacritic\",\"Value\":\"67/100\"}],\"Metascore\":\"67\",\"imdbRating\":\"7.6\",\"imdbVotes\":\"641,226\",\"imdbID\":\"tt3896198\",\"Type\":\"movie\",\"DVD\":\"22 Aug 2017\",\"BoxOffice\":\"$389,813,101\",\"Production\":\"N/A\",\"Website\":\"N/A\",\"Response\":\"True\"}\n",
    "        has_rating = False\n",
    "        for rating in example['Ratings']:\n",
    "            if rating['Source'] == 'Rotten Tomatoes':\n",
    "                has_rating = True\n",
    "                rotten_rating = rating['Value']\n",
    "                print(rating)\n",
    "                print(rotten_rating)\n",
    "        return rating\n",
    "        \n",
    "    def update_library(self):\n",
    "        print('Checking for new movies.')\n",
    "        self.access_api()\n",
    "        return self.data\n",
    "        #for item in self.data:\n",
    "    \n",
    "    def functions():\n",
    "        films = []\n",
    "        for i,film in enumerate(data):\n",
    "            print(f'Parsing {film['name']}')\n",
    "            film_info = {\n",
    "                'title': None, \n",
    "                'episode_id': None, \n",
    "                'opening_crawl': None, \n",
    "                'director': None, \n",
    "                'producer': None, \n",
    "                'release_date': None, \n",
    "                'characters': None, \n",
    "                'plot': None, \n",
    "                'rotten_tomatoes': None, \n",
    "                'box_office_gross': None    \n",
    "                }\n",
    "\n",
    "            for field in interest_data.keys():\n",
    "                if field in film:\n",
    "                    film_info[field] = film[field]\n",
    "            film_obj = StarWarsFilms(*film_info.values())\n",
    "            films.append(film_obj)\n",
    "            print(\"######################\")\n",
    "            break\n",
    "            \n",
    "\n",
    "people = path + \"people\"\n",
    "\n",
    "build = StarWarsLibrary(films)\n",
    "data = build.update_library()"
   ]
  },
  {
   "cell_type": "code",
   "execution_count": 1,
   "id": "75d16f05-91ce-4455-85dd-3a4e3fafc9b1",
   "metadata": {},
   "outputs": [
    {
     "name": "stdout",
     "output_type": "stream",
     "text": [
      "{'name': 'Luke Skywalker', 'height': '172', 'mass': '77', 'hair_color': 'blond', 'skin_color': 'fair', 'eye_color': 'blue', 'birth_year': '19BBY', 'gender': 'male', 'homeworld': 'https://swapi.dev/api/planets/1/', 'films': ['https://swapi.dev/api/films/1/', 'https://swapi.dev/api/films/2/', 'https://swapi.dev/api/films/3/', 'https://swapi.dev/api/films/6/'], 'species': [], 'vehicles': ['https://swapi.dev/api/vehicles/14/', 'https://swapi.dev/api/vehicles/30/'], 'starships': ['https://swapi.dev/api/starships/12/', 'https://swapi.dev/api/starships/22/'], 'created': '2014-12-09T13:50:51.644000Z', 'edited': '2014-12-20T21:17:56.891000Z', 'url': 'https://swapi.dev/api/people/1/'}\n"
     ]
    }
   ],
   "source": [
    "char_example = \"\"\"{'name': 'Luke Skywalker', 'height': '172', 'mass': '77', 'hair_color': 'blond', 'skin_color': 'fair', 'eye_color': 'blue', 'birth_year': '19BBY', 'gender': 'male', 'homeworld': 'https://swapi.dev/api/planets/1/', 'films': ['https://swapi.dev/api/films/1/', 'https://swapi.dev/api/films/2/', 'https://swapi.dev/api/films/3/', 'https://swapi.dev/api/films/6/'], 'species': [], 'vehicles': ['https://swapi.dev/api/vehicles/14/', 'https://swapi.dev/api/vehicles/30/'], 'starships': ['https://swapi.dev/api/starships/12/', 'https://swapi.dev/api/starships/22/'], 'created': '2014-12-09T13:50:51.644000Z', 'edited': '2014-12-20T21:17:56.891000Z', 'url': 'https://swapi.dev/api/people/1/'}\"\"\"\n",
    "print(char_example)"
   ]
  },
  {
   "cell_type": "code",
   "execution_count": 2,
   "id": "b5ac51d4-bb71-4af3-a96b-902c2b594444",
   "metadata": {},
   "outputs": [],
   "source": [
    "\n",
    "class_fields = [\n",
    "    'title', \n",
    "    'episode_id', \n",
    "    'opening_crawl', \n",
    "    'director', \n",
    "    'producer', \n",
    "    'release_date', \n",
    "    'characters', \n",
    "    'plot', \n",
    "    'rotten_tomatoes',\n",
    "    'box_office_gross',]\n",
    "interest_data = [_ for _ in data[0].keys() if _ in class_fields]\n"
   ]
  },
  {
   "cell_type": "code",
   "execution_count": 3,
   "id": "5bded94d-b16a-4b7b-bae7-45ad6704a29b",
   "metadata": {},
   "outputs": [],
   "source": []
  },
  {
   "cell_type": "code",
   "execution_count": 4,
   "id": "fc2d450b-8a61-4382-b4bc-54deaf085ba9",
   "metadata": {},
   "outputs": [
    {
     "name": "stdout",
     "output_type": "stream",
     "text": [
      "Luke Skywalker\n",
      "C-3PO\n",
      "R2-D2\n",
      "Darth Vader\n",
      "Leia Organa\n",
      "Owen Lars\n",
      "Beru Whitesun lars\n",
      "R5-D4\n",
      "Biggs Darklighter\n",
      "Obi-Wan Kenobi\n",
      "Wilhuff Tarkin\n",
      "Chewbacca\n",
      "Han Solo\n",
      "Greedo\n",
      "Jabba Desilijic Tiure\n",
      "Wedge Antilles\n",
      "Jek Tono Porkins\n",
      "Raymus Antilles\n",
      "######################\n",
      "StarWarsFilms(title='A New Hope', episode_id=4, opening_crawl=\"It is a period of civil war.\\r\\nRebel spaceships, striking\\r\\nfrom a hidden base, have won\\r\\ntheir first victory against\\r\\nthe evil Galactic Empire.\\r\\n\\r\\nDuring the battle, Rebel\\r\\nspies managed to steal secret\\r\\nplans to the Empire's\\r\\nultimate weapon, the DEATH\\r\\nSTAR, an armored space\\r\\nstation with enough power\\r\\nto destroy an entire planet.\\r\\n\\r\\nPursued by the Empire's\\r\\nsinister agents, Princess\\r\\nLeia races home aboard her\\r\\nstarship, custodian of the\\r\\nstolen plans that can save her\\r\\npeople and restore\\r\\nfreedom to the galaxy....\", director='George Lucas', producer='Gary Kurtz, Rick McCallum', release_date='1977-05-25', characters=[FilmCharacters(name='Luke Skywalker', height='172', mass='77', hair_color='blond', eye_color='blue', birth_year='19BBY', gender='male'), FilmCharacters(name='C-3PO', height='167', mass='75', hair_color='n/a', eye_color='yellow', birth_year='112BBY', gender='n/a'), FilmCharacters(name='R2-D2', height='96', mass='32', hair_color='n/a', eye_color='red', birth_year='33BBY', gender='n/a'), FilmCharacters(name='Darth Vader', height='202', mass='136', hair_color='none', eye_color='yellow', birth_year='41.9BBY', gender='male'), FilmCharacters(name='Leia Organa', height='150', mass='49', hair_color='brown', eye_color='brown', birth_year='19BBY', gender='female'), FilmCharacters(name='Owen Lars', height='178', mass='120', hair_color='brown, grey', eye_color='blue', birth_year='52BBY', gender='male'), FilmCharacters(name='Beru Whitesun lars', height='165', mass='75', hair_color='brown', eye_color='blue', birth_year='47BBY', gender='female'), FilmCharacters(name='R5-D4', height='97', mass='32', hair_color='n/a', eye_color='red', birth_year='unknown', gender='n/a'), FilmCharacters(name='Biggs Darklighter', height='183', mass='84', hair_color='black', eye_color='brown', birth_year='24BBY', gender='male'), FilmCharacters(name='Obi-Wan Kenobi', height='182', mass='77', hair_color='auburn, white', eye_color='blue-gray', birth_year='57BBY', gender='male'), FilmCharacters(name='Wilhuff Tarkin', height='180', mass='unknown', hair_color='auburn, grey', eye_color='blue', birth_year='64BBY', gender='male'), FilmCharacters(name='Chewbacca', height='228', mass='112', hair_color='brown', eye_color='blue', birth_year='200BBY', gender='male'), FilmCharacters(name='Han Solo', height='180', mass='80', hair_color='brown', eye_color='brown', birth_year='29BBY', gender='male'), FilmCharacters(name='Greedo', height='173', mass='74', hair_color='n/a', eye_color='black', birth_year='44BBY', gender='male'), FilmCharacters(name='Jabba Desilijic Tiure', height='175', mass='1,358', hair_color='n/a', eye_color='orange', birth_year='600BBY', gender='hermaphrodite'), FilmCharacters(name='Wedge Antilles', height='170', mass='77', hair_color='brown', eye_color='hazel', birth_year='21BBY', gender='male'), FilmCharacters(name='Jek Tono Porkins', height='180', mass='110', hair_color='brown', eye_color='blue', birth_year='unknown', gender='male'), FilmCharacters(name='Raymus Antilles', height='188', mass='79', hair_color='brown', eye_color='brown', birth_year='unknown', gender='male')], plot=None, rotten_tomatoes=None, box_office_gross=None)\n"
     ]
    }
   ],
   "source": [
    "\n",
    "for film in films:\n",
    "    print(film)"
   ]
  },
  {
   "cell_type": "code",
   "execution_count": 10,
   "id": "e79e4008-d468-4b67-a9c1-5117aaa66af7",
   "metadata": {},
   "outputs": [
    {
     "name": "stdout",
     "output_type": "stream",
     "text": [
      "Luke Skywalker\n",
      "C-3PO\n",
      "R2-D2\n",
      "Darth Vader\n",
      "Leia Organa\n",
      "Owen Lars\n",
      "Beru Whitesun lars\n",
      "R5-D4\n",
      "Biggs Darklighter\n",
      "Obi-Wan Kenobi\n",
      "Wilhuff Tarkin\n",
      "Chewbacca\n",
      "Han Solo\n",
      "Greedo\n",
      "Jabba Desilijic Tiure\n",
      "Wedge Antilles\n",
      "Jek Tono Porkins\n",
      "Raymus Antilles\n"
     ]
    }
   ],
   "source": [
    "for char in films[0].characters:\n",
    "    print(char.name)"
   ]
  },
  {
   "cell_type": "code",
   "execution_count": 6,
   "id": "167c1a4d-78db-4cfe-afe7-43f42afb9993",
   "metadata": {},
   "outputs": [
    {
     "data": {
      "text/plain": [
       "[]"
      ]
     },
     "execution_count": 6,
     "metadata": {},
     "output_type": "execute_result"
    }
   ],
   "source": [
    "films"
   ]
  },
  {
   "cell_type": "code",
   "execution_count": null,
   "id": "79c204c3-2f4c-44d8-bebf-0138d5ed8c18",
   "metadata": {},
   "outputs": [],
   "source": [
    "url = 'http://www.omdbapi.com/?i=tt3896198&apikey=3ef42ac3'"
   ]
  },
  {
   "cell_type": "code",
   "execution_count": 28,
   "id": "ca7267fe-aba3-483e-9972-953e97a0d543",
   "metadata": {},
   "outputs": [
    {
     "name": "stdout",
     "output_type": "stream",
     "text": [
      "{'Source': 'Rotten Tomatoes', 'Value': '85%'}\n",
      "85%\n"
     ]
    }
   ],
   "source": [
    "example = {\"Title\":\"Guardians of the Galaxy Vol. 2\",\"Year\":\"2017\",\"Rated\":\"PG-13\",\"Released\":\"05 May 2017\",\"Runtime\":\"136 min\",\"Genre\":\"Action, Adventure, Comedy\",\"Director\":\"James Gunn\",\"Writer\":\"James Gunn, Dan Abnett, Andy Lanning\",\"Actors\":\"Chris Pratt, Zoe Saldana, Dave Bautista\",\"Plot\":\"The Guardians struggle to keep together as a team while dealing with their personal family issues, notably Star-Lord's encounter with his father the ambitious celestial being Ego.\",\"Language\":\"English\",\"Country\":\"United States\",\"Awards\":\"Nominated for 1 Oscar. 15 wins & 59 nominations total\",\"Poster\":\"https://m.media-amazon.com/images/M/MV5BNjM0NTc0NzItM2FlYS00YzEwLWE0YmUtNTA2ZWIzODc2OTgxXkEyXkFqcGdeQXVyNTgwNzIyNzg@._V1_SX300.jpg\",\"Ratings\":[{\"Source\":\"Internet Movie Database\",\"Value\":\"7.6/10\"},{\"Source\":\"Rotten Tomatoes\",\"Value\":\"85%\"},{\"Source\":\"Metacritic\",\"Value\":\"67/100\"}],\"Metascore\":\"67\",\"imdbRating\":\"7.6\",\"imdbVotes\":\"641,226\",\"imdbID\":\"tt3896198\",\"Type\":\"movie\",\"DVD\":\"22 Aug 2017\",\"BoxOffice\":\"$389,813,101\",\"Production\":\"N/A\",\"Website\":\"N/A\",\"Response\":\"True\"}\n",
    "has_rating = False\n",
    "for rating in example['Ratings']:\n",
    "    if rating['Source'] == 'Rotten Tomatoes':\n",
    "        has_rating = True\n",
    "        rotten_rating = rating['Value']\n",
    "        print(rating)\n",
    "        print(rotten_rating)"
   ]
  },
  {
   "cell_type": "code",
   "execution_count": 79,
   "id": "5155dc76-7a1b-4b6d-8fc1-6c509be2c4c8",
   "metadata": {},
   "outputs": [
    {
     "name": "stdout",
     "output_type": "stream",
     "text": [
      "'title': None, \n",
      "'episode_id': None, \n",
      "'opening_crawl': None, \n",
      "'director': None, \n",
      "'producer': None, \n",
      "'release_date': None, \n",
      "'characters': None, \n",
      "'plot': None, \n",
      "'rotten_tomatoes': None, \n",
      "'box_office_gross': None, \n"
     ]
    }
   ],
   "source": [
    "for field in class_fields:\n",
    "    print(f\"'{field}': None, \")"
   ]
  },
  {
   "cell_type": "code",
   "execution_count": 69,
   "id": "16a1c81d-a590-4a2d-8daf-64cda2664e9f",
   "metadata": {},
   "outputs": [
    {
     "name": "stdout",
     "output_type": "stream",
     "text": [
      "['title', 'episode_id', 'opening_crawl', 'director', 'producer', 'release_date', 'characters', 'list    plot', 'rotten_tomatoes', 'box_office_gross', 'int = field(metadata={\"units\"', '\"U.S. Dollars\"})']\n"
     ]
    }
   ],
   "source": [
    "strig  = \"\"\"title: str\n",
    "    episode_id: int\n",
    "    opening_crawl: str\n",
    "    director: str\n",
    "    producer: str\n",
    "    release_date: str\n",
    "    characters: list\n",
    "    plot: str\n",
    "    rotten_tomatoes: int\n",
    "    box_office_gross: int = field(metadata={\"units\":\"U.S. Dollars\"})\"\"\"\n",
    "\n",
    "strig = strig.replace(\"\\r\",\"\").replace(\"\\n\",\"\").strip().split(\":\")\n",
    "strig = [_.replace(\"str   \",\"\").replace('int   ',\"\").strip() for _ in strig]\n",
    "print(strig)"
   ]
  },
  {
   "cell_type": "code",
   "execution_count": null,
   "id": "dfef0863-555c-4e97-b097-285f533bcea8",
   "metadata": {},
   "outputs": [],
   "source": []
  }
 ],
 "metadata": {
  "kernelspec": {
   "display_name": "Python 3 (ipykernel)",
   "language": "python",
   "name": "python3"
  },
  "language_info": {
   "codemirror_mode": {
    "name": "ipython",
    "version": 3
   },
   "file_extension": ".py",
   "mimetype": "text/x-python",
   "name": "python",
   "nbconvert_exporter": "python",
   "pygments_lexer": "ipython3",
   "version": "3.9.7"
  }
 },
 "nbformat": 4,
 "nbformat_minor": 5
}
